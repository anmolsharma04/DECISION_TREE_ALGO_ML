{
 "cells": [
  {
   "cell_type": "code",
   "execution_count": 33,
   "id": "3047c54e-fc80-4641-81db-bee0f265984d",
   "metadata": {},
   "outputs": [],
   "source": [
    "import pandas as pd \n",
    "import numpy as np \n",
    "import seaborn as sns\n",
    "import matplotlib.pyplot as plt\n",
    "from sklearn.model_selection import train_test_split\n",
    "from sklearn.preprocessing import StandardScaler , LabelEncoder\n",
    "from sklearn.metrics import accuracy_score , classification_report , confusion_matrix\n",
    "from sklearn.tree import DecisionTreeClassifier"
   ]
  },
  {
   "cell_type": "code",
   "execution_count": 35,
   "id": "feacc386-549e-4a06-af4d-d245bec996ab",
   "metadata": {},
   "outputs": [
    {
     "data": {
      "text/html": [
       "<div>\n",
       "<style scoped>\n",
       "    .dataframe tbody tr th:only-of-type {\n",
       "        vertical-align: middle;\n",
       "    }\n",
       "\n",
       "    .dataframe tbody tr th {\n",
       "        vertical-align: top;\n",
       "    }\n",
       "\n",
       "    .dataframe thead th {\n",
       "        text-align: right;\n",
       "    }\n",
       "</style>\n",
       "<table border=\"1\" class=\"dataframe\">\n",
       "  <thead>\n",
       "    <tr style=\"text-align: right;\">\n",
       "      <th></th>\n",
       "      <th>Transaction_Time</th>\n",
       "      <th>Transaction_ID</th>\n",
       "      <th>Transaction_Date</th>\n",
       "      <th>Customer_Age</th>\n",
       "      <th>Fraud</th>\n",
       "      <th>Customer_Income</th>\n",
       "    </tr>\n",
       "  </thead>\n",
       "  <tbody>\n",
       "    <tr>\n",
       "      <th>0</th>\n",
       "      <td>1126</td>\n",
       "      <td>1</td>\n",
       "      <td>344</td>\n",
       "      <td>66</td>\n",
       "      <td>1</td>\n",
       "      <td>26102</td>\n",
       "    </tr>\n",
       "    <tr>\n",
       "      <th>1</th>\n",
       "      <td>860</td>\n",
       "      <td>2</td>\n",
       "      <td>326</td>\n",
       "      <td>66</td>\n",
       "      <td>1</td>\n",
       "      <td>70336</td>\n",
       "    </tr>\n",
       "    <tr>\n",
       "      <th>2</th>\n",
       "      <td>1294</td>\n",
       "      <td>3</td>\n",
       "      <td>8</td>\n",
       "      <td>69</td>\n",
       "      <td>1</td>\n",
       "      <td>138015</td>\n",
       "    </tr>\n",
       "    <tr>\n",
       "      <th>3</th>\n",
       "      <td>1130</td>\n",
       "      <td>4</td>\n",
       "      <td>343</td>\n",
       "      <td>29</td>\n",
       "      <td>1</td>\n",
       "      <td>105314</td>\n",
       "    </tr>\n",
       "    <tr>\n",
       "      <th>4</th>\n",
       "      <td>1095</td>\n",
       "      <td>5</td>\n",
       "      <td>128</td>\n",
       "      <td>56</td>\n",
       "      <td>1</td>\n",
       "      <td>143007</td>\n",
       "    </tr>\n",
       "  </tbody>\n",
       "</table>\n",
       "</div>"
      ],
      "text/plain": [
       "   Transaction_Time  Transaction_ID  Transaction_Date  Customer_Age  Fraud  \\\n",
       "0              1126               1               344            66      1   \n",
       "1               860               2               326            66      1   \n",
       "2              1294               3                 8            69      1   \n",
       "3              1130               4               343            29      1   \n",
       "4              1095               5               128            56      1   \n",
       "\n",
       "   Customer_Income  \n",
       "0            26102  \n",
       "1            70336  \n",
       "2           138015  \n",
       "3           105314  \n",
       "4           143007  "
      ]
     },
     "execution_count": 35,
     "metadata": {},
     "output_type": "execute_result"
    }
   ],
   "source": [
    "#LOADING DATASET FROM A CSV FILE\n",
    "df = pd.read_csv(r'C:\\Users\\anmol\\Downloads\\transaction_data_knn_practice.csv' , encoding = 'ISO-8859-1' )\n",
    "df.head()"
   ]
  },
  {
   "cell_type": "code",
   "execution_count": 37,
   "id": "664b31db-9715-4f17-95e2-1dd4d7a7ff22",
   "metadata": {},
   "outputs": [],
   "source": [
    "X=df.drop(['Transaction_ID', 'Fraud'], axis=1, errors='ignore')\n",
    "\n",
    "y=df['Fraud']\n",
    "\n",
    "#SPLITTING DATA\n",
    "X_train , X_test , y_train , y_test = train_test_split(X,y,  test_size=0.3 , random_state = 0)\n"
   ]
  },
  {
   "cell_type": "code",
   "execution_count": 39,
   "id": "fe3d79d2-7005-4e61-8013-f311cdcb76c2",
   "metadata": {},
   "outputs": [],
   "source": [
    "#DECISION TREE \n",
    "decision_tree = DecisionTreeClassifier()\n",
    "decision_tree.fit(X_train , y_train)\n",
    "decision_tree_pred = decision_tree.predict(X_test)\n",
    "decision_tree_accuracy = accuracy_score(y_test , decision_tree_pred)"
   ]
  },
  {
   "cell_type": "code",
   "execution_count": 41,
   "id": "8f56a616-d3e8-4c1e-b6af-630184700c3c",
   "metadata": {},
   "outputs": [
    {
     "name": "stdout",
     "output_type": "stream",
     "text": [
      "accuracy: 43.33\n",
      "              precision    recall  f1-score   support\n",
      "\n",
      "           0       0.30      0.67      0.41         9\n",
      "           1       0.70      0.33      0.45        21\n",
      "\n",
      "    accuracy                           0.43        30\n",
      "   macro avg       0.50      0.50      0.43        30\n",
      "weighted avg       0.58      0.43      0.44        30\n",
      "\n"
     ]
    }
   ],
   "source": [
    "#DISPLAYING THE ACCURACY AND PERFORMANCE\n",
    "print(f'accuracy: {decision_tree_accuracy*100:.2f}')\n",
    "print(classification_report(y_test , decision_tree_pred))\n"
   ]
  },
  {
   "cell_type": "code",
   "execution_count": 45,
   "id": "2e74d4b0-0830-4b94-b78d-2f5f6552d9ad",
   "metadata": {},
   "outputs": [
    {
     "data": {
      "image/png": "[encoded data removed]",
      "text/plain": [
       "<Figure size 700x500 with 2 Axes>"
      ]
     },
     "metadata": {},
     "output_type": "display_data"
    }
   ],
   "source": [
    "#CONFUSION MATRIX\n",
    "plt.figure(figsize=(7,5))\n",
    "sns.heatmap(confusion_matrix(y_test , decision_tree_pred),annot=True , fmt='d',cmap='Blues')\n",
    "plt.title('DECISION TREE CONFUSION MATRIX')\n",
    "plt.show()"
   ]
  },
  {
   "cell_type": "code",
   "execution_count": null,
   "id": "07861e5b-83d8-4d2e-b3fe-fbe025fc8a3d",
   "metadata": {},
   "outputs": [],
   "source": []
  }
 ],
 "metadata": {
  "kernelspec": {
   "display_name": "Python 3 (ipykernel)",
   "language": "python",
   "name": "python3"
  },
  "language_info": {
   "codemirror_mode": {
    "name": "ipython",
    "version": 3
   },
   "file_extension": ".py",
   "mimetype": "text/x-python",
   "name": "python",
   "nbconvert_exporter": "python",
   "pygments_lexer": "ipython3",
   "version": "3.12.4"
  }
 },
 "nbformat": 4,
 "nbformat_minor": 5
}
